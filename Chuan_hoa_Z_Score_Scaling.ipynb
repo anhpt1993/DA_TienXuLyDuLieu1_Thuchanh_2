{
 "cells": [
  {
   "cell_type": "markdown",
   "id": "efa8450a-ca37-4d65-bf64-2d7ffaade3a5",
   "metadata": {},
   "source": [
    "# 0. Import các thư viện cần thiết"
   ]
  },
  {
   "cell_type": "code",
   "execution_count": 1,
   "id": "9c884924-94c6-4c1e-a7fa-82b04fad745b",
   "metadata": {},
   "outputs": [],
   "source": [
    "import pandas as pd\n",
    "import numpy as np\n",
    "import matplotlib.pyplot as plt\n",
    "import seaborn as sns\n",
    "from sklearn.preprocessing import StandardScaler"
   ]
  },
  {
   "cell_type": "markdown",
   "id": "270d7959-6313-4892-ac97-2af22d7e5a92",
   "metadata": {},
   "source": [
    "# 1. Khởi tạo dữ liệu"
   ]
  },
  {
   "cell_type": "code",
   "execution_count": 2,
   "id": "bd2c4fdf-31dd-435b-a6c6-5d582b50b2b9",
   "metadata": {},
   "outputs": [],
   "source": [
    "# tạo các cột theo các phần phối khác nhau\n",
    "df = pd.DataFrame({ \n",
    "    'beta': np.random.beta(5, 1, 1000) * 60,        # beta\n",
    "    'exponential': np.random.exponential(10, 1000), # exponential\n",
    "    'normal_p': np.random.normal(10, 2, 1000),      # normal platykurtic\n",
    "    'normal_l': np.random.normal(10, 10, 1000),     # normal leptokurtic\n",
    "})"
   ]
  },
  {
   "cell_type": "code",
   "execution_count": 3,
   "id": "059a42a1-d20c-4a63-8ca8-3605d46c1e5c",
   "metadata": {},
   "outputs": [],
   "source": [
    "# thêm dữ liệu được tạo theo phân phối nhị thức\n",
    "first_half = np.random.normal(20, 3, 500) \n",
    "second_half = np.random.normal(-20, 3, 500) \n",
    "bimodal = np.concatenate([first_half, second_half])\n",
    "\n",
    "df['bimodal'] = bimodal"
   ]
  },
  {
   "cell_type": "code",
   "execution_count": 4,
   "id": "0cba9844-552a-406c-86c3-3fbba875d432",
   "metadata": {},
   "outputs": [
    {
     "data": {
      "text/html": [
       "<div>\n",
       "<style scoped>\n",
       "    .dataframe tbody tr th:only-of-type {\n",
       "        vertical-align: middle;\n",
       "    }\n",
       "\n",
       "    .dataframe tbody tr th {\n",
       "        vertical-align: top;\n",
       "    }\n",
       "\n",
       "    .dataframe thead th {\n",
       "        text-align: right;\n",
       "    }\n",
       "</style>\n",
       "<table border=\"1\" class=\"dataframe\">\n",
       "  <thead>\n",
       "    <tr style=\"text-align: right;\">\n",
       "      <th></th>\n",
       "      <th>beta</th>\n",
       "      <th>exponential</th>\n",
       "      <th>normal_p</th>\n",
       "      <th>normal_l</th>\n",
       "      <th>bimodal</th>\n",
       "    </tr>\n",
       "  </thead>\n",
       "  <tbody>\n",
       "    <tr>\n",
       "      <th>0</th>\n",
       "      <td>49.667211</td>\n",
       "      <td>2.131572</td>\n",
       "      <td>9.288194</td>\n",
       "      <td>23.645953</td>\n",
       "      <td>19.139663</td>\n",
       "    </tr>\n",
       "    <tr>\n",
       "      <th>1</th>\n",
       "      <td>52.871920</td>\n",
       "      <td>15.187704</td>\n",
       "      <td>10.628567</td>\n",
       "      <td>-14.260602</td>\n",
       "      <td>23.729249</td>\n",
       "    </tr>\n",
       "    <tr>\n",
       "      <th>2</th>\n",
       "      <td>59.931284</td>\n",
       "      <td>10.971713</td>\n",
       "      <td>10.129470</td>\n",
       "      <td>-9.187647</td>\n",
       "      <td>20.984198</td>\n",
       "    </tr>\n",
       "    <tr>\n",
       "      <th>3</th>\n",
       "      <td>28.668749</td>\n",
       "      <td>0.555080</td>\n",
       "      <td>8.042255</td>\n",
       "      <td>20.345707</td>\n",
       "      <td>14.873801</td>\n",
       "    </tr>\n",
       "    <tr>\n",
       "      <th>4</th>\n",
       "      <td>53.541626</td>\n",
       "      <td>10.729239</td>\n",
       "      <td>9.940689</td>\n",
       "      <td>15.604661</td>\n",
       "      <td>20.930117</td>\n",
       "    </tr>\n",
       "  </tbody>\n",
       "</table>\n",
       "</div>"
      ],
      "text/plain": [
       "        beta  exponential   normal_p   normal_l    bimodal\n",
       "0  49.667211     2.131572   9.288194  23.645953  19.139663\n",
       "1  52.871920    15.187704  10.628567 -14.260602  23.729249\n",
       "2  59.931284    10.971713  10.129470  -9.187647  20.984198\n",
       "3  28.668749     0.555080   8.042255  20.345707  14.873801\n",
       "4  53.541626    10.729239   9.940689  15.604661  20.930117"
      ]
     },
     "execution_count": 4,
     "metadata": {},
     "output_type": "execute_result"
    }
   ],
   "source": [
    "# hiển thị dữ liệu\n",
    "df.head()"
   ]
  },
  {
   "cell_type": "markdown",
   "id": "500df603-12e9-4d29-9bf8-7ea963fd2970",
   "metadata": {},
   "source": [
    "# 2. Trực quan hoá dữ liệu sinh ra"
   ]
  },
  {
   "cell_type": "code",
   "execution_count": 5,
   "id": "a5339e00-e739-41dc-aa64-0aec05538d7e",
   "metadata": {},
   "outputs": [
    {
     "data": {
      "text/plain": [
       "<AxesSubplot:ylabel='Density'>"
      ]
     },
     "execution_count": 5,
     "metadata": {},
     "output_type": "execute_result"
    },
    {
     "data": {
      "image/png": "[encoded data removed]",
      "text/plain": [
       "<Figure size 432x288 with 1 Axes>"
      ]
     },
     "metadata": {
      "needs_background": "light"
     },
     "output_type": "display_data"
    }
   ],
   "source": [
    "sns.kdeplot(data = df)"
   ]
  },
  {
   "cell_type": "markdown",
   "id": "982dc479-69fe-412c-ae47-194fdd96ae37",
   "metadata": {},
   "source": [
    "# 3. Hiển thị thống kê về dữ liệu sinh ra"
   ]
  },
  {
   "cell_type": "code",
   "execution_count": 6,
   "id": "e7bb7c68-9e6d-487c-8ea7-e4e05822014d",
   "metadata": {},
   "outputs": [
    {
     "data": {
      "text/html": [
       "<div>\n",
       "<style scoped>\n",
       "    .dataframe tbody tr th:only-of-type {\n",
       "        vertical-align: middle;\n",
       "    }\n",
       "\n",
       "    .dataframe tbody tr th {\n",
       "        vertical-align: top;\n",
       "    }\n",
       "\n",
       "    .dataframe thead th {\n",
       "        text-align: right;\n",
       "    }\n",
       "</style>\n",
       "<table border=\"1\" class=\"dataframe\">\n",
       "  <thead>\n",
       "    <tr style=\"text-align: right;\">\n",
       "      <th></th>\n",
       "      <th>beta</th>\n",
       "      <th>exponential</th>\n",
       "      <th>normal_p</th>\n",
       "      <th>normal_l</th>\n",
       "      <th>bimodal</th>\n",
       "    </tr>\n",
       "  </thead>\n",
       "  <tbody>\n",
       "    <tr>\n",
       "      <th>count</th>\n",
       "      <td>1000.000000</td>\n",
       "      <td>1000.000000</td>\n",
       "      <td>1000.000000</td>\n",
       "      <td>1000.000000</td>\n",
       "      <td>1000.000000</td>\n",
       "    </tr>\n",
       "    <tr>\n",
       "      <th>mean</th>\n",
       "      <td>50.096325</td>\n",
       "      <td>10.346443</td>\n",
       "      <td>10.110287</td>\n",
       "      <td>10.033052</td>\n",
       "      <td>0.057823</td>\n",
       "    </tr>\n",
       "    <tr>\n",
       "      <th>std</th>\n",
       "      <td>8.113574</td>\n",
       "      <td>10.351045</td>\n",
       "      <td>1.950001</td>\n",
       "      <td>10.271474</td>\n",
       "      <td>20.325921</td>\n",
       "    </tr>\n",
       "    <tr>\n",
       "      <th>min</th>\n",
       "      <td>13.701401</td>\n",
       "      <td>0.007470</td>\n",
       "      <td>3.667294</td>\n",
       "      <td>-20.496797</td>\n",
       "      <td>-28.036249</td>\n",
       "    </tr>\n",
       "    <tr>\n",
       "      <th>25%</th>\n",
       "      <td>45.791806</td>\n",
       "      <td>3.051010</td>\n",
       "      <td>8.821489</td>\n",
       "      <td>3.443540</td>\n",
       "      <td>-20.048054</td>\n",
       "    </tr>\n",
       "    <tr>\n",
       "      <th>50%</th>\n",
       "      <td>52.085539</td>\n",
       "      <td>7.012296</td>\n",
       "      <td>10.034936</td>\n",
       "      <td>10.311473</td>\n",
       "      <td>-0.559437</td>\n",
       "    </tr>\n",
       "    <tr>\n",
       "      <th>75%</th>\n",
       "      <td>56.560267</td>\n",
       "      <td>14.026268</td>\n",
       "      <td>11.403327</td>\n",
       "      <td>16.759562</td>\n",
       "      <td>20.045668</td>\n",
       "    </tr>\n",
       "    <tr>\n",
       "      <th>max</th>\n",
       "      <td>59.998297</td>\n",
       "      <td>68.253747</td>\n",
       "      <td>16.832045</td>\n",
       "      <td>43.807760</td>\n",
       "      <td>28.075899</td>\n",
       "    </tr>\n",
       "  </tbody>\n",
       "</table>\n",
       "</div>"
      ],
      "text/plain": [
       "              beta  exponential     normal_p     normal_l      bimodal\n",
       "count  1000.000000  1000.000000  1000.000000  1000.000000  1000.000000\n",
       "mean     50.096325    10.346443    10.110287    10.033052     0.057823\n",
       "std       8.113574    10.351045     1.950001    10.271474    20.325921\n",
       "min      13.701401     0.007470     3.667294   -20.496797   -28.036249\n",
       "25%      45.791806     3.051010     8.821489     3.443540   -20.048054\n",
       "50%      52.085539     7.012296    10.034936    10.311473    -0.559437\n",
       "75%      56.560267    14.026268    11.403327    16.759562    20.045668\n",
       "max      59.998297    68.253747    16.832045    43.807760    28.075899"
      ]
     },
     "execution_count": 6,
     "metadata": {},
     "output_type": "execute_result"
    }
   ],
   "source": [
    "df.describe()"
   ]
  },
  {
   "cell_type": "markdown",
   "id": "d49ef7b9-9af8-4651-b22d-b10d3295b469",
   "metadata": {},
   "source": [
    "# 4. Thêm một đặc trưng với giá trị lớn hơn nhiều"
   ]
  },
  {
   "cell_type": "code",
   "execution_count": 7,
   "id": "4796fdb8-9425-4312-b755-45c60ec21ce8",
   "metadata": {},
   "outputs": [
    {
     "data": {
      "text/plain": [
       "<AxesSubplot:ylabel='Density'>"
      ]
     },
     "execution_count": 7,
     "metadata": {},
     "output_type": "execute_result"
    },
    {
     "data": {
      "image/png": "[encoded data removed]",
      "text/plain": [
       "<Figure size 432x288 with 1 Axes>"
      ]
     },
     "metadata": {
      "needs_background": "light"
     },
     "output_type": "display_data"
    }
   ],
   "source": [
    "normal_big = np.random.normal(1000000, 10000, (1000,1))  # normal distribution of large values\n",
    "df['normal_big'] = normal_big\n",
    "sns.kdeplot(data=df)"
   ]
  },
  {
   "cell_type": "code",
   "execution_count": 8,
   "id": "4f522da5-0944-40f4-ac5f-1247b96b26b2",
   "metadata": {},
   "outputs": [
    {
     "data": {
      "text/plain": [
       "<AxesSubplot:>"
      ]
     },
     "execution_count": 8,
     "metadata": {},
     "output_type": "execute_result"
    },
    {
     "data": {
      "image/png": "[encoded data removed]",
      "text/plain": [
       "<Figure size 432x288 with 1 Axes>"
      ]
     },
     "metadata": {
      "needs_background": "light"
     },
     "output_type": "display_data"
    }
   ],
   "source": [
    "# Trực quan hoá bằng biểu đồ box plot\n",
    "df.boxplot()"
   ]
  },
  {
   "cell_type": "markdown",
   "id": "dad5c7eb-001f-49d8-a724-1915f5c30d03",
   "metadata": {},
   "source": [
    "# 5. Chuẩn hoá với StandardScaler (Z-Score scaling)"
   ]
  },
  {
   "cell_type": "code",
   "execution_count": 9,
   "id": "00e047dd-ca35-43d0-b3c4-87e9849648c3",
   "metadata": {},
   "outputs": [],
   "source": [
    "# Khai báo đối tượng StandardScaler\n",
    "s_scaler = StandardScaler()"
   ]
  },
  {
   "cell_type": "code",
   "execution_count": 10,
   "id": "0353df71-35e4-4e25-b8e1-7fcfa5f1092c",
   "metadata": {},
   "outputs": [],
   "source": [
    "# Chuẩn hóa dữ liệu trong df với StandardScaler\n",
    "df_s = s_scaler.fit_transform(df)\n",
    "\n",
    "# lấy danh sách cột\n",
    "col_names = list(df.columns)\n",
    "\n",
    "# chuyển về DataFrame, gán các cột của df cho dữ liệu đã được chuẩn hóa\n",
    "df_s = pd.DataFrame(df_s, columns=col_names)"
   ]
  },
  {
   "cell_type": "code",
   "execution_count": 11,
   "id": "f47182aa-a783-4881-b619-6cf16039fdbe",
   "metadata": {},
   "outputs": [
    {
     "data": {
      "text/html": [
       "<div>\n",
       "<style scoped>\n",
       "    .dataframe tbody tr th:only-of-type {\n",
       "        vertical-align: middle;\n",
       "    }\n",
       "\n",
       "    .dataframe tbody tr th {\n",
       "        vertical-align: top;\n",
       "    }\n",
       "\n",
       "    .dataframe thead th {\n",
       "        text-align: right;\n",
       "    }\n",
       "</style>\n",
       "<table border=\"1\" class=\"dataframe\">\n",
       "  <thead>\n",
       "    <tr style=\"text-align: right;\">\n",
       "      <th></th>\n",
       "      <th>beta</th>\n",
       "      <th>exponential</th>\n",
       "      <th>normal_p</th>\n",
       "      <th>normal_l</th>\n",
       "      <th>bimodal</th>\n",
       "      <th>normal_big</th>\n",
       "    </tr>\n",
       "  </thead>\n",
       "  <tbody>\n",
       "    <tr>\n",
       "      <th>0</th>\n",
       "      <td>-0.052915</td>\n",
       "      <td>-0.794024</td>\n",
       "      <td>-0.421797</td>\n",
       "      <td>1.325974</td>\n",
       "      <td>0.939263</td>\n",
       "      <td>0.445642</td>\n",
       "    </tr>\n",
       "    <tr>\n",
       "      <th>1</th>\n",
       "      <td>0.342264</td>\n",
       "      <td>0.467941</td>\n",
       "      <td>0.265918</td>\n",
       "      <td>-2.366341</td>\n",
       "      <td>1.165176</td>\n",
       "      <td>-0.732731</td>\n",
       "    </tr>\n",
       "    <tr>\n",
       "      <th>2</th>\n",
       "      <td>1.212768</td>\n",
       "      <td>0.060437</td>\n",
       "      <td>0.009843</td>\n",
       "      <td>-1.872206</td>\n",
       "      <td>1.030056</td>\n",
       "      <td>-0.482726</td>\n",
       "    </tr>\n",
       "    <tr>\n",
       "      <th>3</th>\n",
       "      <td>-2.642275</td>\n",
       "      <td>-0.946403</td>\n",
       "      <td>-1.061059</td>\n",
       "      <td>1.004512</td>\n",
       "      <td>0.729285</td>\n",
       "      <td>-0.605990</td>\n",
       "    </tr>\n",
       "    <tr>\n",
       "      <th>4</th>\n",
       "      <td>0.424847</td>\n",
       "      <td>0.037000</td>\n",
       "      <td>-0.087017</td>\n",
       "      <td>0.542707</td>\n",
       "      <td>1.027394</td>\n",
       "      <td>0.309915</td>\n",
       "    </tr>\n",
       "  </tbody>\n",
       "</table>\n",
       "</div>"
      ],
      "text/plain": [
       "       beta  exponential  normal_p  normal_l   bimodal  normal_big\n",
       "0 -0.052915    -0.794024 -0.421797  1.325974  0.939263    0.445642\n",
       "1  0.342264     0.467941  0.265918 -2.366341  1.165176   -0.732731\n",
       "2  1.212768     0.060437  0.009843 -1.872206  1.030056   -0.482726\n",
       "3 -2.642275    -0.946403 -1.061059  1.004512  0.729285   -0.605990\n",
       "4  0.424847     0.037000 -0.087017  0.542707  1.027394    0.309915"
      ]
     },
     "execution_count": 11,
     "metadata": {},
     "output_type": "execute_result"
    }
   ],
   "source": [
    "df_s.head()"
   ]
  },
  {
   "cell_type": "code",
   "execution_count": 12,
   "id": "adcdab1e-375b-4984-998a-eeaa004af078",
   "metadata": {},
   "outputs": [
    {
     "data": {
      "text/plain": [
       "<AxesSubplot:ylabel='Density'>"
      ]
     },
     "execution_count": 12,
     "metadata": {},
     "output_type": "execute_result"
    },
    {
     "data": {
      "image/png": "[encoded data removed]",
      "text/plain": [
       "<Figure size 432x288 with 1 Axes>"
      ]
     },
     "metadata": {
      "needs_background": "light"
     },
     "output_type": "display_data"
    }
   ],
   "source": [
    "# Biểu diễn dữ liệu sinh ra được chuẩn hoá\n",
    "sns.kdeplot(data = df_s)"
   ]
  },
  {
   "cell_type": "code",
   "execution_count": 13,
   "id": "0c4fec2b-ceba-49d7-88e1-32b50f119990",
   "metadata": {},
   "outputs": [
    {
     "data": {
      "text/html": [
       "<div>\n",
       "<style scoped>\n",
       "    .dataframe tbody tr th:only-of-type {\n",
       "        vertical-align: middle;\n",
       "    }\n",
       "\n",
       "    .dataframe tbody tr th {\n",
       "        vertical-align: top;\n",
       "    }\n",
       "\n",
       "    .dataframe thead th {\n",
       "        text-align: right;\n",
       "    }\n",
       "</style>\n",
       "<table border=\"1\" class=\"dataframe\">\n",
       "  <thead>\n",
       "    <tr style=\"text-align: right;\">\n",
       "      <th></th>\n",
       "      <th>beta</th>\n",
       "      <th>exponential</th>\n",
       "      <th>normal_p</th>\n",
       "      <th>normal_l</th>\n",
       "      <th>bimodal</th>\n",
       "      <th>normal_big</th>\n",
       "    </tr>\n",
       "  </thead>\n",
       "  <tbody>\n",
       "    <tr>\n",
       "      <th>count</th>\n",
       "      <td>1.000000e+03</td>\n",
       "      <td>1.000000e+03</td>\n",
       "      <td>1.000000e+03</td>\n",
       "      <td>1.000000e+03</td>\n",
       "      <td>1.000000e+03</td>\n",
       "      <td>1.000000e+03</td>\n",
       "    </tr>\n",
       "    <tr>\n",
       "      <th>mean</th>\n",
       "      <td>-8.171241e-17</td>\n",
       "      <td>1.367795e-16</td>\n",
       "      <td>1.012523e-16</td>\n",
       "      <td>4.973799e-17</td>\n",
       "      <td>1.136868e-16</td>\n",
       "      <td>2.504663e-16</td>\n",
       "    </tr>\n",
       "    <tr>\n",
       "      <th>std</th>\n",
       "      <td>1.000500e+00</td>\n",
       "      <td>1.000500e+00</td>\n",
       "      <td>1.000500e+00</td>\n",
       "      <td>1.000500e+00</td>\n",
       "      <td>1.000500e+00</td>\n",
       "      <td>1.000500e+00</td>\n",
       "    </tr>\n",
       "    <tr>\n",
       "      <th>min</th>\n",
       "      <td>-4.487928e+00</td>\n",
       "      <td>-9.993336e-01</td>\n",
       "      <td>-3.305750e+00</td>\n",
       "      <td>-2.973782e+00</td>\n",
       "      <td>-1.382871e+00</td>\n",
       "      <td>-3.114930e+00</td>\n",
       "    </tr>\n",
       "    <tr>\n",
       "      <th>25%</th>\n",
       "      <td>-5.307984e-01</td>\n",
       "      <td>-7.051543e-01</td>\n",
       "      <td>-6.612522e-01</td>\n",
       "      <td>-6.418562e-01</td>\n",
       "      <td>-9.896692e-01</td>\n",
       "      <td>-6.881881e-01</td>\n",
       "    </tr>\n",
       "    <tr>\n",
       "      <th>50%</th>\n",
       "      <td>2.452939e-01</td>\n",
       "      <td>-3.222685e-01</td>\n",
       "      <td>-3.866081e-02</td>\n",
       "      <td>2.711981e-02</td>\n",
       "      <td>-3.038329e-02</td>\n",
       "      <td>-1.730646e-02</td>\n",
       "    </tr>\n",
       "    <tr>\n",
       "      <th>75%</th>\n",
       "      <td>7.970812e-01</td>\n",
       "      <td>3.556807e-01</td>\n",
       "      <td>6.634291e-01</td>\n",
       "      <td>6.552006e-01</td>\n",
       "      <td>9.838593e-01</td>\n",
       "      <td>6.875612e-01</td>\n",
       "    </tr>\n",
       "    <tr>\n",
       "      <th>max</th>\n",
       "      <td>1.221031e+00</td>\n",
       "      <td>5.597143e+00</td>\n",
       "      <td>3.448778e+00</td>\n",
       "      <td>3.289850e+00</td>\n",
       "      <td>1.379130e+00</td>\n",
       "      <td>2.892076e+00</td>\n",
       "    </tr>\n",
       "  </tbody>\n",
       "</table>\n",
       "</div>"
      ],
      "text/plain": [
       "               beta   exponential      normal_p      normal_l       bimodal  \\\n",
       "count  1.000000e+03  1.000000e+03  1.000000e+03  1.000000e+03  1.000000e+03   \n",
       "mean  -8.171241e-17  1.367795e-16  1.012523e-16  4.973799e-17  1.136868e-16   \n",
       "std    1.000500e+00  1.000500e+00  1.000500e+00  1.000500e+00  1.000500e+00   \n",
       "min   -4.487928e+00 -9.993336e-01 -3.305750e+00 -2.973782e+00 -1.382871e+00   \n",
       "25%   -5.307984e-01 -7.051543e-01 -6.612522e-01 -6.418562e-01 -9.896692e-01   \n",
       "50%    2.452939e-01 -3.222685e-01 -3.866081e-02  2.711981e-02 -3.038329e-02   \n",
       "75%    7.970812e-01  3.556807e-01  6.634291e-01  6.552006e-01  9.838593e-01   \n",
       "max    1.221031e+00  5.597143e+00  3.448778e+00  3.289850e+00  1.379130e+00   \n",
       "\n",
       "         normal_big  \n",
       "count  1.000000e+03  \n",
       "mean   2.504663e-16  \n",
       "std    1.000500e+00  \n",
       "min   -3.114930e+00  \n",
       "25%   -6.881881e-01  \n",
       "50%   -1.730646e-02  \n",
       "75%    6.875612e-01  \n",
       "max    2.892076e+00  "
      ]
     },
     "execution_count": 13,
     "metadata": {},
     "output_type": "execute_result"
    }
   ],
   "source": [
    "# Thống kê về dữ liệu được sinh ra\n",
    "df_s.describe()"
   ]
  },
  {
   "cell_type": "code",
   "execution_count": 14,
   "id": "0b8854e0-d7b3-4151-81df-2b47f4b2852c",
   "metadata": {},
   "outputs": [
    {
     "data": {
      "text/plain": [
       "<AxesSubplot:>"
      ]
     },
     "execution_count": 14,
     "metadata": {},
     "output_type": "execute_result"
    },
    {
     "data": {
      "image/png": "[encoded data removed]",
      "text/plain": [
       "<Figure size 432x288 with 1 Axes>"
      ]
     },
     "metadata": {
      "needs_background": "light"
     },
     "output_type": "display_data"
    }
   ],
   "source": [
    "# Trực quan bắng biểu đồ box plot\n",
    "df_s.boxplot()"
   ]
  }
 ],
 "metadata": {
  "kernelspec": {
   "display_name": "Python 3 (ipykernel)",
   "language": "python",
   "name": "python3"
  },
  "language_info": {
   "codemirror_mode": {
    "name": "ipython",
    "version": 3
   },
   "file_extension": ".py",
   "mimetype": "text/x-python",
   "name": "python",
   "nbconvert_exporter": "python",
   "pygments_lexer": "ipython3",
   "version": "3.10.1"
  }
 },
 "nbformat": 4,
 "nbformat_minor": 5
}
